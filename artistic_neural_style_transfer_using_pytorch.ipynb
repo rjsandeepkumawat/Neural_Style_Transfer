{
  "metadata": {
    "colab": {
      "provenance": []
    },
    "kernelspec": {
      "display_name": "Python 3",
      "language": "python",
      "name": "python3"
    },
    "accelerator": "GPU",
    "language_info": {
      "name": "python",
      "version": "3.6.6",
      "mimetype": "text/x-python",
      "codemirror_mode": {
        "name": "ipython",
        "version": 3
      },
      "pygments_lexer": "ipython3",
      "nbconvert_exporter": "python",
      "file_extension": ".py"
    },
    "kaggle": {
      "accelerator": "gpu",
      "dataSources": [],
      "dockerImageVersionId": 12783,
      "isInternetEnabled": false,
      "language": "python",
      "sourceType": "notebook",
      "isGpuEnabled": true
    }
  },
  "nbformat_minor": 0,
  "nbformat": 4,
  "cells": [
    {
      "cell_type": "code",
      "source": [
        "# import resources\n",
        "%matplotlib inline\n",
        "\n",
        "from PIL import Image\n",
        "import matplotlib.pyplot as plt\n",
        "import numpy as np\n",
        "\n",
        "import torch\n",
        "import torch.optim as optim\n",
        "from torchvision import transforms, models"
      ],
      "metadata": {
        "id": "oVlHGJYMbP5N",
        "_uuid": "7b1206e82683c9b6d0f269971def5655c3a1f7d8",
        "trusted": true
      },
      "execution_count": 1,
      "outputs": []
    },
    {
      "cell_type": "code",
      "source": [
        "# get the \"features\" portion of VGG19 (we will not need the \"classifier\" portion)\n",
        "vgg = models.vgg19(pretrained=True).features\n",
        "\n",
        "# freeze all VGG parameters since we're only optimizing the target image\n",
        "for param in vgg.parameters():\n",
        "    param.requires_grad_(False)"
      ],
      "metadata": {
        "id": "jVr5_jzvbP5c",
        "colab": {
          "base_uri": "https://localhost:8080/"
        },
        "_uuid": "f7710325ec38cfb299bfe8307ed5d87beaeedecc",
        "trusted": true,
        "outputId": "358530a2-5c7c-4d17-c5c6-d9caafb15a6d",
        "collapsed": true
      },
      "execution_count": 2,
      "outputs": [
        {
          "output_type": "stream",
          "name": "stderr",
          "text": [
            "/usr/local/lib/python3.10/dist-packages/torchvision/models/_utils.py:208: UserWarning: The parameter 'pretrained' is deprecated since 0.13 and may be removed in the future, please use 'weights' instead.\n",
            "  warnings.warn(\n",
            "/usr/local/lib/python3.10/dist-packages/torchvision/models/_utils.py:223: UserWarning: Arguments other than a weight enum or `None` for 'weights' are deprecated since 0.13 and may be removed in the future. The current behavior is equivalent to passing `weights=VGG19_Weights.IMAGENET1K_V1`. You can also use `weights=VGG19_Weights.DEFAULT` to get the most up-to-date weights.\n",
            "  warnings.warn(msg)\n",
            "Downloading: \"https://download.pytorch.org/models/vgg19-dcbb9e9d.pth\" to /root/.cache/torch/hub/checkpoints/vgg19-dcbb9e9d.pth\n",
            "100%|██████████| 548M/548M [00:07<00:00, 75.7MB/s]\n"
          ]
        }
      ]
    },
    {
      "cell_type": "code",
      "source": [
        "# move the model to GPU, if available\n",
        "device = torch.device(\"cuda\" if torch.cuda.is_available() else \"cpu\")\n",
        "\n",
        "vgg.to(device)"
      ],
      "metadata": {
        "id": "jfKwUYt0bP6F",
        "colab": {
          "base_uri": "https://localhost:8080/"
        },
        "outputId": "f4c59cb3-3fc1-425c-eb39-89ca8def8292",
        "_uuid": "56714eecb4da53210dffc55d4aa1f7217512846d",
        "trusted": true
      },
      "execution_count": 3,
      "outputs": [
        {
          "output_type": "execute_result",
          "data": {
            "text/plain": [
              "Sequential(\n",
              "  (0): Conv2d(3, 64, kernel_size=(3, 3), stride=(1, 1), padding=(1, 1))\n",
              "  (1): ReLU(inplace=True)\n",
              "  (2): Conv2d(64, 64, kernel_size=(3, 3), stride=(1, 1), padding=(1, 1))\n",
              "  (3): ReLU(inplace=True)\n",
              "  (4): MaxPool2d(kernel_size=2, stride=2, padding=0, dilation=1, ceil_mode=False)\n",
              "  (5): Conv2d(64, 128, kernel_size=(3, 3), stride=(1, 1), padding=(1, 1))\n",
              "  (6): ReLU(inplace=True)\n",
              "  (7): Conv2d(128, 128, kernel_size=(3, 3), stride=(1, 1), padding=(1, 1))\n",
              "  (8): ReLU(inplace=True)\n",
              "  (9): MaxPool2d(kernel_size=2, stride=2, padding=0, dilation=1, ceil_mode=False)\n",
              "  (10): Conv2d(128, 256, kernel_size=(3, 3), stride=(1, 1), padding=(1, 1))\n",
              "  (11): ReLU(inplace=True)\n",
              "  (12): Conv2d(256, 256, kernel_size=(3, 3), stride=(1, 1), padding=(1, 1))\n",
              "  (13): ReLU(inplace=True)\n",
              "  (14): Conv2d(256, 256, kernel_size=(3, 3), stride=(1, 1), padding=(1, 1))\n",
              "  (15): ReLU(inplace=True)\n",
              "  (16): Conv2d(256, 256, kernel_size=(3, 3), stride=(1, 1), padding=(1, 1))\n",
              "  (17): ReLU(inplace=True)\n",
              "  (18): MaxPool2d(kernel_size=2, stride=2, padding=0, dilation=1, ceil_mode=False)\n",
              "  (19): Conv2d(256, 512, kernel_size=(3, 3), stride=(1, 1), padding=(1, 1))\n",
              "  (20): ReLU(inplace=True)\n",
              "  (21): Conv2d(512, 512, kernel_size=(3, 3), stride=(1, 1), padding=(1, 1))\n",
              "  (22): ReLU(inplace=True)\n",
              "  (23): Conv2d(512, 512, kernel_size=(3, 3), stride=(1, 1), padding=(1, 1))\n",
              "  (24): ReLU(inplace=True)\n",
              "  (25): Conv2d(512, 512, kernel_size=(3, 3), stride=(1, 1), padding=(1, 1))\n",
              "  (26): ReLU(inplace=True)\n",
              "  (27): MaxPool2d(kernel_size=2, stride=2, padding=0, dilation=1, ceil_mode=False)\n",
              "  (28): Conv2d(512, 512, kernel_size=(3, 3), stride=(1, 1), padding=(1, 1))\n",
              "  (29): ReLU(inplace=True)\n",
              "  (30): Conv2d(512, 512, kernel_size=(3, 3), stride=(1, 1), padding=(1, 1))\n",
              "  (31): ReLU(inplace=True)\n",
              "  (32): Conv2d(512, 512, kernel_size=(3, 3), stride=(1, 1), padding=(1, 1))\n",
              "  (33): ReLU(inplace=True)\n",
              "  (34): Conv2d(512, 512, kernel_size=(3, 3), stride=(1, 1), padding=(1, 1))\n",
              "  (35): ReLU(inplace=True)\n",
              "  (36): MaxPool2d(kernel_size=2, stride=2, padding=0, dilation=1, ceil_mode=False)\n",
              ")"
            ]
          },
          "metadata": {},
          "execution_count": 3
        }
      ]
    },
    {
      "cell_type": "code",
      "source": [
        "def load_image(img_path, max_size=400, shape=None):\n",
        "    ''' Load in and transform an image, making sure the image\n",
        "       is <= 400 pixels in the x-y dims.'''\n",
        "\n",
        "    image = Image.open(img_path).convert('RGB')\n",
        "\n",
        "    # large images will slow down processing\n",
        "    if max(image.size) > max_size:\n",
        "        size = max_size\n",
        "    else:\n",
        "        size = max(image.size)\n",
        "\n",
        "    if shape is not None:\n",
        "        size = shape\n",
        "\n",
        "    in_transform = transforms.Compose([\n",
        "                        transforms.Resize(size),\n",
        "                        transforms.ToTensor(),\n",
        "                        transforms.Normalize((0.485, 0.456, 0.406),\n",
        "                                             (0.229, 0.224, 0.225))])\n",
        "\n",
        "    # discard the transparent, alpha channel (that's the :3) and add the batch dimension\n",
        "    image = in_transform(image)[:3,:,:].unsqueeze(0)\n",
        "\n",
        "    return image"
      ],
      "metadata": {
        "id": "v3Ycp8BobP6q",
        "_uuid": "978cb5eac10a90aac2b2dd62ff3a7b92a373142d",
        "trusted": true
      },
      "execution_count": 4,
      "outputs": []
    },
    {
      "cell_type": "markdown",
      "source": [
        "Next, I'm loading in images by file name and forcing the style image to be the same size as the content image."
      ],
      "metadata": {
        "id": "DXzKhDvpbP7T",
        "_uuid": "55d17c46c21cc9ff0dbd4cfdcd53abda7aa08cd5"
      }
    },
    {
      "cell_type": "markdown",
      "source": [
        "Download Required Content and Style Images..."
      ],
      "metadata": {
        "_uuid": "aa0b0aef56d0c30fa19bdc2c6224f40b49d1e612",
        "id": "jXTy-HiHjfkf"
      }
    },
    {
      "cell_type": "code",
      "source": [
        "!wget #(URL of content image)\n",
        "!wget #(URL of style image)"
      ],
      "metadata": {
        "_uuid": "613e6fe086a430380682f90512064c5c9889d08d",
        "trusted": true,
        "colab": {
          "base_uri": "https://localhost:8080/"
        },
        "id": "rAVT0ddPjfkf",
        "outputId": "f21be0ed-88b9-4988-dab6-3054c8b97b4a"
      },
      "execution_count": 17,
      "outputs": [
        {
          "output_type": "stream",
          "name": "stdout",
          "text": [
            "wget: missing URL\n",
            "Usage: wget [OPTION]... [URL]...\n",
            "\n",
            "Try `wget --help' for more options.\n",
            "wget: missing URL\n",
            "Usage: wget [OPTION]... [URL]...\n",
            "\n",
            "Try `wget --help' for more options.\n"
          ]
        }
      ]
    },
    {
      "cell_type": "code",
      "source": [
        "# load in content and style image\n",
        "content = load_image('/content/psychedelic-colorful-abstract-art-by-thaneeya.jpg').to(device)\n",
        "# Resize style to match content, makes code easier\n",
        "style = load_image('/content/IMG_20240309_121722_523.jpg', shape=content.shape[-2:]).to(device)"
      ],
      "metadata": {
        "id": "AtrlePgEbP7W",
        "_uuid": "d5505f533cf4944c0d316fe9bf982946a4a14b37",
        "trusted": true
      },
      "execution_count": 7,
      "outputs": []
    },
    {
      "cell_type": "code",
      "source": [
        "# helper function for un-normalizing an image\n",
        "# and converting it from a Tensor image to a NumPy image for display\n",
        "def im_convert(tensor):\n",
        "    \"\"\" Display a tensor as an image. \"\"\"\n",
        "\n",
        "    image = tensor.to(\"cpu\").clone().detach()\n",
        "    image = image.numpy().squeeze()\n",
        "    image = image.transpose(1,2,0)\n",
        "    image = image * np.array((0.229, 0.224, 0.225)) + np.array((0.485, 0.456, 0.406))\n",
        "    image = image.clip(0, 1)\n",
        "\n",
        "    return image"
      ],
      "metadata": {
        "id": "I33hNj9NbP7f",
        "_uuid": "14c1030c91f66b174ba015f4cd72d8d4ead8ab2f",
        "trusted": true
      },
      "execution_count": 8,
      "outputs": []
    },
    {
      "cell_type": "code",
      "source": [
        "# display the images\n",
        "fig, (ax1, ax2) = plt.subplots(1, 2, figsize=(20, 10))\n",
        "# content and style ims side-by-side\n",
        "ax1.imshow(im_convert(content))\n",
        "ax1.set_title(\"Content Image\",fontsize = 20)\n",
        "ax2.imshow(im_convert(style))\n",
        "ax2.set_title(\"Style Image\", fontsize = 20)\n",
        "plt.show()"
      ],
      "metadata": {
        "id": "uZSNV6glbP7n",
        "_uuid": "d08805bd8fefe717f72f179c171f4d24db849553",
        "trusted": true
      },
      "execution_count": null,
      "outputs": []
    },
    {
      "cell_type": "code",
      "source": [
        "# print VGG19 structure so we can see the names of various layers\n",
        "print(vgg)"
      ],
      "metadata": {
        "id": "AyLmy56NbP8X",
        "colab": {
          "base_uri": "https://localhost:8080/"
        },
        "outputId": "47d61e45-005e-4115-c02a-d719d2c47d3c",
        "_uuid": "21d3446005e9c8c061ce85a67efafe63a46398d5",
        "trusted": true
      },
      "execution_count": 10,
      "outputs": [
        {
          "output_type": "stream",
          "name": "stdout",
          "text": [
            "Sequential(\n",
            "  (0): Conv2d(3, 64, kernel_size=(3, 3), stride=(1, 1), padding=(1, 1))\n",
            "  (1): ReLU(inplace=True)\n",
            "  (2): Conv2d(64, 64, kernel_size=(3, 3), stride=(1, 1), padding=(1, 1))\n",
            "  (3): ReLU(inplace=True)\n",
            "  (4): MaxPool2d(kernel_size=2, stride=2, padding=0, dilation=1, ceil_mode=False)\n",
            "  (5): Conv2d(64, 128, kernel_size=(3, 3), stride=(1, 1), padding=(1, 1))\n",
            "  (6): ReLU(inplace=True)\n",
            "  (7): Conv2d(128, 128, kernel_size=(3, 3), stride=(1, 1), padding=(1, 1))\n",
            "  (8): ReLU(inplace=True)\n",
            "  (9): MaxPool2d(kernel_size=2, stride=2, padding=0, dilation=1, ceil_mode=False)\n",
            "  (10): Conv2d(128, 256, kernel_size=(3, 3), stride=(1, 1), padding=(1, 1))\n",
            "  (11): ReLU(inplace=True)\n",
            "  (12): Conv2d(256, 256, kernel_size=(3, 3), stride=(1, 1), padding=(1, 1))\n",
            "  (13): ReLU(inplace=True)\n",
            "  (14): Conv2d(256, 256, kernel_size=(3, 3), stride=(1, 1), padding=(1, 1))\n",
            "  (15): ReLU(inplace=True)\n",
            "  (16): Conv2d(256, 256, kernel_size=(3, 3), stride=(1, 1), padding=(1, 1))\n",
            "  (17): ReLU(inplace=True)\n",
            "  (18): MaxPool2d(kernel_size=2, stride=2, padding=0, dilation=1, ceil_mode=False)\n",
            "  (19): Conv2d(256, 512, kernel_size=(3, 3), stride=(1, 1), padding=(1, 1))\n",
            "  (20): ReLU(inplace=True)\n",
            "  (21): Conv2d(512, 512, kernel_size=(3, 3), stride=(1, 1), padding=(1, 1))\n",
            "  (22): ReLU(inplace=True)\n",
            "  (23): Conv2d(512, 512, kernel_size=(3, 3), stride=(1, 1), padding=(1, 1))\n",
            "  (24): ReLU(inplace=True)\n",
            "  (25): Conv2d(512, 512, kernel_size=(3, 3), stride=(1, 1), padding=(1, 1))\n",
            "  (26): ReLU(inplace=True)\n",
            "  (27): MaxPool2d(kernel_size=2, stride=2, padding=0, dilation=1, ceil_mode=False)\n",
            "  (28): Conv2d(512, 512, kernel_size=(3, 3), stride=(1, 1), padding=(1, 1))\n",
            "  (29): ReLU(inplace=True)\n",
            "  (30): Conv2d(512, 512, kernel_size=(3, 3), stride=(1, 1), padding=(1, 1))\n",
            "  (31): ReLU(inplace=True)\n",
            "  (32): Conv2d(512, 512, kernel_size=(3, 3), stride=(1, 1), padding=(1, 1))\n",
            "  (33): ReLU(inplace=True)\n",
            "  (34): Conv2d(512, 512, kernel_size=(3, 3), stride=(1, 1), padding=(1, 1))\n",
            "  (35): ReLU(inplace=True)\n",
            "  (36): MaxPool2d(kernel_size=2, stride=2, padding=0, dilation=1, ceil_mode=False)\n",
            ")\n"
          ]
        }
      ]
    },
    {
      "cell_type": "markdown",
      "source": [
        "## Content and Style Features\n",
        "\n",
        "Below, complete the mapping of layer names to the names found in the paper for the _content representation_ and the _style representation_."
      ],
      "metadata": {
        "id": "_DkY4OvmbP8g",
        "_uuid": "2717bff1f683f8d92f498cececf997dac2b3cf2c"
      }
    },
    {
      "cell_type": "code",
      "source": [
        "def get_features(image, model, layers=None):\n",
        "    \"\"\" Run an image forward through a model and get the features for\n",
        "        a set of layers. Default layers are for VGGNet matching Gatys et al (2016)\n",
        "    \"\"\"\n",
        "\n",
        "    ## TODO: Complete mapping layer names of PyTorch's VGGNet to names from the paper\n",
        "    ## Need the layers for the content and style representations of an image\n",
        "    if layers is None:\n",
        "        layers = {'0': 'conv1_1',\n",
        "                  '5': 'conv2_1',\n",
        "                  '10': 'conv3_1',\n",
        "                  '19': 'conv4_1',\n",
        "                  '21': 'conv4_2',  ## content representation\n",
        "                  '28': 'conv5_1'}\n",
        "\n",
        "    features = {}\n",
        "    x = image\n",
        "    # model._modules is a dictionary holding each module in the model\n",
        "    for name, layer in model._modules.items():\n",
        "        x = layer(x)\n",
        "        if name in layers:\n",
        "            features[layers[name]] = x\n",
        "\n",
        "    return features"
      ],
      "metadata": {
        "id": "FV5THOfzbP8j",
        "_uuid": "2b46a9f4abf05d89bd7c60fe7951525bffd1640d",
        "trusted": true
      },
      "execution_count": 11,
      "outputs": []
    },
    {
      "cell_type": "code",
      "source": [
        "def gram_matrix(tensor):\n",
        "    \"\"\" Calculate the Gram Matrix of a given tensor\n",
        "        Gram Matrix: https://en.wikipedia.org/wiki/Gramian_matrix\n",
        "    \"\"\"\n",
        "\n",
        "    # get the batch_size, depth, height, and width of the Tensor\n",
        "    _, d, h, w = tensor.size()\n",
        "\n",
        "    # reshape so we're multiplying the features for each channel\n",
        "    tensor = tensor.view(d, h * w)\n",
        "\n",
        "    # calculate the gram matrix\n",
        "    gram = torch.mm(tensor, tensor.t())\n",
        "\n",
        "    return gram"
      ],
      "metadata": {
        "id": "OQykPzj9bP8u",
        "_uuid": "65e77ee27728fd35e8e1df9900b0623aa769a50e",
        "trusted": true
      },
      "execution_count": 12,
      "outputs": []
    },
    {
      "cell_type": "code",
      "source": [
        "# get content and style features only once before training\n",
        "content_features = get_features(content, vgg)\n",
        "style_features = get_features(style, vgg)\n",
        "\n",
        "# calculate the gram matrices for each layer of our style representation\n",
        "style_grams = {layer: gram_matrix(style_features[layer]) for layer in style_features}\n",
        "\n",
        "# create a third \"target\" image and prep it for change\n",
        "# it is a good idea to start of with the target as a copy of our *content* image\n",
        "# then iteratively change its style\n",
        "target = content.clone().requires_grad_(True).to(device)"
      ],
      "metadata": {
        "id": "mVOziT76bP9e",
        "_uuid": "ac7477f95eb629c63db6a8044599112bcd603423",
        "trusted": true
      },
      "execution_count": 13,
      "outputs": []
    },
    {
      "cell_type": "code",
      "source": [
        "# weights for each style layer\n",
        "# weighting earlier layers more will result in *larger* style artifacts\n",
        "# notice we are excluding `conv4_2` our content representation\n",
        "style_weights = {'conv1_1': 1.,\n",
        "                 'conv2_1': 0.75,\n",
        "                 'conv3_1': 0.2,\n",
        "                 'conv4_1': 0.2,\n",
        "                 'conv5_1': 0.2}\n",
        "\n",
        "content_weight = 1  # alpha\n",
        "style_weight = 1e9  # beta"
      ],
      "metadata": {
        "id": "T6xsdRMlbP9r",
        "_uuid": "a3867b0dd38b95cb706fb0e416f4c9d7b7433f00",
        "trusted": true
      },
      "execution_count": 14,
      "outputs": []
    },
    {
      "cell_type": "code",
      "source": [
        "# for displaying the target image, intermittently\n",
        "show_every = 400\n",
        "\n",
        "# iteration hyperparameters\n",
        "optimizer = optim.Adam([target], lr=0.003)\n",
        "steps = 2000  # decide how many iterations to update your image (5000)\n",
        "\n",
        "for ii in range(1, steps+1):\n",
        "\n",
        "    # get the features from your target image\n",
        "    target_features = get_features(target, vgg)\n",
        "\n",
        "    # the content loss\n",
        "    content_loss = torch.mean((target_features['conv4_2'] - content_features['conv4_2'])**2)\n",
        "\n",
        "    # the style loss\n",
        "    # initialize the style loss to 0\n",
        "    style_loss = 0\n",
        "    # then add to it for each layer's gram matrix loss\n",
        "    for layer in style_weights:\n",
        "        # get the \"target\" style representation for the layer\n",
        "        target_feature = target_features[layer]\n",
        "        target_gram = gram_matrix(target_feature)\n",
        "        _, d, h, w = target_feature.shape\n",
        "        # get the \"style\" style representation\n",
        "        style_gram = style_grams[layer]\n",
        "        # the style loss for one layer, weighted appropriately\n",
        "        layer_style_loss = style_weights[layer] * torch.mean((target_gram - style_gram)**2)\n",
        "        # add to the style loss\n",
        "        style_loss += layer_style_loss / (d * h * w)\n",
        "\n",
        "    # calculate the *total* loss\n",
        "    total_loss = content_weight * content_loss + style_weight * style_loss\n",
        "\n",
        "    # update your target image\n",
        "    optimizer.zero_grad()\n",
        "    total_loss.backward()\n",
        "    optimizer.step()\n",
        "\n",
        "    # display intermediate images and print the loss\n",
        "    if  ii % show_every == 0:\n",
        "        print('Total loss: ', total_loss.item())\n",
        "        plt.imshow(im_convert(target))\n",
        "        plt.show()"
      ],
      "metadata": {
        "scrolled": true,
        "id": "fGgRrXjLbP94",
        "_uuid": "9bcc49bb9590c4a671eecaed7f359be604aa29f8",
        "trusted": true
      },
      "execution_count": null,
      "outputs": []
    },
    {
      "cell_type": "markdown",
      "source": [
        "## Display the Target Image"
      ],
      "metadata": {
        "id": "bbZVdQq_bP-1",
        "_uuid": "3577b759c2054d0d312c004bcd2f46bfec3db14d"
      }
    },
    {
      "cell_type": "code",
      "source": [
        "# display content and final, target image\n",
        "fig, (ax1, ax2) = plt.subplots(2, 1, figsize=(15, 15))\n",
        "ax1.imshow(im_convert(content))\n",
        "ax1.set_title(\"Content Image\", fontsize = 20)\n",
        "ax2.imshow(im_convert(target))\n",
        "ax2.set_title(\"Stylized Target Image\", fontsize = 20)\n",
        "ax1.grid(False)\n",
        "ax2.grid(False)\n",
        "# Hide axes ticks\n",
        "ax1.set_xticks([])\n",
        "ax1.set_yticks([])\n",
        "ax2.set_xticks([])\n",
        "ax2.set_yticks([])\n",
        "plt.show()"
      ],
      "metadata": {
        "id": "m5KD32b3bP-4",
        "_uuid": "800aba50ac20110585ba5ee02a5c8fc38976d112",
        "trusted": true
      },
      "execution_count": null,
      "outputs": []
    },
    {
      "cell_type": "markdown",
      "source": [
        "### Contents Source:  \n",
        "Udacity PyTorch Scholarship Program (https://github.com/udacity/deep-learning-v2-pytorch)"
      ],
      "metadata": {
        "_uuid": "81515734ed0a6e7fc21fd0177fd539ba68e1a7c7",
        "id": "_7952sRxjfkk"
      }
    }
  ]
}